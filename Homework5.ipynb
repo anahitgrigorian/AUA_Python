{
 "cells": [
  {
   "cell_type": "markdown",
   "id": "4b99cb4f",
   "metadata": {},
   "source": [
    "## IMDB Data Analysis"
   ]
  },
  {
   "cell_type": "markdown",
   "id": "cad0f6f2",
   "metadata": {},
   "source": [
    "#### First of all we need to import pandas and the dataset and display the first few rows to understand the structure."
   ]
  },
  {
   "cell_type": "code",
   "execution_count": 2,
   "id": "5b294f06",
   "metadata": {},
   "outputs": [
    {
     "data": {
      "text/html": [
       "<div>\n",
       "<style scoped>\n",
       "    .dataframe tbody tr th:only-of-type {\n",
       "        vertical-align: middle;\n",
       "    }\n",
       "\n",
       "    .dataframe tbody tr th {\n",
       "        vertical-align: top;\n",
       "    }\n",
       "\n",
       "    .dataframe thead th {\n",
       "        text-align: right;\n",
       "    }\n",
       "</style>\n",
       "<table border=\"1\" class=\"dataframe\">\n",
       "  <thead>\n",
       "    <tr style=\"text-align: right;\">\n",
       "      <th></th>\n",
       "      <th>Poster_Link</th>\n",
       "      <th>Series_Title</th>\n",
       "      <th>Released_Year</th>\n",
       "      <th>Certificate</th>\n",
       "      <th>Runtime</th>\n",
       "      <th>Genre</th>\n",
       "      <th>IMDB_Rating</th>\n",
       "      <th>Overview</th>\n",
       "      <th>Meta_score</th>\n",
       "      <th>Director</th>\n",
       "      <th>Star1</th>\n",
       "      <th>Star2</th>\n",
       "      <th>Star3</th>\n",
       "      <th>Star4</th>\n",
       "      <th>No_of_Votes</th>\n",
       "      <th>Gross</th>\n",
       "    </tr>\n",
       "  </thead>\n",
       "  <tbody>\n",
       "    <tr>\n",
       "      <th>0</th>\n",
       "      <td>https://m.media-amazon.com/images/M/MV5BMDFkYT...</td>\n",
       "      <td>The Shawshank Redemption</td>\n",
       "      <td>1994</td>\n",
       "      <td>A</td>\n",
       "      <td>142 min</td>\n",
       "      <td>Drama</td>\n",
       "      <td>9.3</td>\n",
       "      <td>Two imprisoned men bond over a number of years...</td>\n",
       "      <td>80.0</td>\n",
       "      <td>Frank Darabont</td>\n",
       "      <td>Tim Robbins</td>\n",
       "      <td>Morgan Freeman</td>\n",
       "      <td>Bob Gunton</td>\n",
       "      <td>William Sadler</td>\n",
       "      <td>2343110</td>\n",
       "      <td>28,341,469</td>\n",
       "    </tr>\n",
       "    <tr>\n",
       "      <th>1</th>\n",
       "      <td>https://m.media-amazon.com/images/M/MV5BM2MyNj...</td>\n",
       "      <td>The Godfather</td>\n",
       "      <td>1972</td>\n",
       "      <td>A</td>\n",
       "      <td>175 min</td>\n",
       "      <td>Crime, Drama</td>\n",
       "      <td>9.2</td>\n",
       "      <td>An organized crime dynasty's aging patriarch t...</td>\n",
       "      <td>100.0</td>\n",
       "      <td>Francis Ford Coppola</td>\n",
       "      <td>Marlon Brando</td>\n",
       "      <td>Al Pacino</td>\n",
       "      <td>James Caan</td>\n",
       "      <td>Diane Keaton</td>\n",
       "      <td>1620367</td>\n",
       "      <td>134,966,411</td>\n",
       "    </tr>\n",
       "    <tr>\n",
       "      <th>2</th>\n",
       "      <td>https://m.media-amazon.com/images/M/MV5BMTMxNT...</td>\n",
       "      <td>The Dark Knight</td>\n",
       "      <td>2008</td>\n",
       "      <td>UA</td>\n",
       "      <td>152 min</td>\n",
       "      <td>Action, Crime, Drama</td>\n",
       "      <td>9.0</td>\n",
       "      <td>When the menace known as the Joker wreaks havo...</td>\n",
       "      <td>84.0</td>\n",
       "      <td>Christopher Nolan</td>\n",
       "      <td>Christian Bale</td>\n",
       "      <td>Heath Ledger</td>\n",
       "      <td>Aaron Eckhart</td>\n",
       "      <td>Michael Caine</td>\n",
       "      <td>2303232</td>\n",
       "      <td>534,858,444</td>\n",
       "    </tr>\n",
       "    <tr>\n",
       "      <th>3</th>\n",
       "      <td>https://m.media-amazon.com/images/M/MV5BMWMwMG...</td>\n",
       "      <td>The Godfather: Part II</td>\n",
       "      <td>1974</td>\n",
       "      <td>A</td>\n",
       "      <td>202 min</td>\n",
       "      <td>Crime, Drama</td>\n",
       "      <td>9.0</td>\n",
       "      <td>The early life and career of Vito Corleone in ...</td>\n",
       "      <td>90.0</td>\n",
       "      <td>Francis Ford Coppola</td>\n",
       "      <td>Al Pacino</td>\n",
       "      <td>Robert De Niro</td>\n",
       "      <td>Robert Duvall</td>\n",
       "      <td>Diane Keaton</td>\n",
       "      <td>1129952</td>\n",
       "      <td>57,300,000</td>\n",
       "    </tr>\n",
       "    <tr>\n",
       "      <th>4</th>\n",
       "      <td>https://m.media-amazon.com/images/M/MV5BMWU4N2...</td>\n",
       "      <td>12 Angry Men</td>\n",
       "      <td>1957</td>\n",
       "      <td>U</td>\n",
       "      <td>96 min</td>\n",
       "      <td>Crime, Drama</td>\n",
       "      <td>9.0</td>\n",
       "      <td>A jury holdout attempts to prevent a miscarria...</td>\n",
       "      <td>96.0</td>\n",
       "      <td>Sidney Lumet</td>\n",
       "      <td>Henry Fonda</td>\n",
       "      <td>Lee J. Cobb</td>\n",
       "      <td>Martin Balsam</td>\n",
       "      <td>John Fiedler</td>\n",
       "      <td>689845</td>\n",
       "      <td>4,360,000</td>\n",
       "    </tr>\n",
       "  </tbody>\n",
       "</table>\n",
       "</div>"
      ],
      "text/plain": [
       "                                         Poster_Link  \\\n",
       "0  https://m.media-amazon.com/images/M/MV5BMDFkYT...   \n",
       "1  https://m.media-amazon.com/images/M/MV5BM2MyNj...   \n",
       "2  https://m.media-amazon.com/images/M/MV5BMTMxNT...   \n",
       "3  https://m.media-amazon.com/images/M/MV5BMWMwMG...   \n",
       "4  https://m.media-amazon.com/images/M/MV5BMWU4N2...   \n",
       "\n",
       "               Series_Title Released_Year Certificate  Runtime  \\\n",
       "0  The Shawshank Redemption          1994           A  142 min   \n",
       "1             The Godfather          1972           A  175 min   \n",
       "2           The Dark Knight          2008          UA  152 min   \n",
       "3    The Godfather: Part II          1974           A  202 min   \n",
       "4              12 Angry Men          1957           U   96 min   \n",
       "\n",
       "                  Genre  IMDB_Rating  \\\n",
       "0                 Drama          9.3   \n",
       "1          Crime, Drama          9.2   \n",
       "2  Action, Crime, Drama          9.0   \n",
       "3          Crime, Drama          9.0   \n",
       "4          Crime, Drama          9.0   \n",
       "\n",
       "                                            Overview  Meta_score  \\\n",
       "0  Two imprisoned men bond over a number of years...        80.0   \n",
       "1  An organized crime dynasty's aging patriarch t...       100.0   \n",
       "2  When the menace known as the Joker wreaks havo...        84.0   \n",
       "3  The early life and career of Vito Corleone in ...        90.0   \n",
       "4  A jury holdout attempts to prevent a miscarria...        96.0   \n",
       "\n",
       "               Director           Star1           Star2          Star3  \\\n",
       "0        Frank Darabont     Tim Robbins  Morgan Freeman     Bob Gunton   \n",
       "1  Francis Ford Coppola   Marlon Brando       Al Pacino     James Caan   \n",
       "2     Christopher Nolan  Christian Bale    Heath Ledger  Aaron Eckhart   \n",
       "3  Francis Ford Coppola       Al Pacino  Robert De Niro  Robert Duvall   \n",
       "4          Sidney Lumet     Henry Fonda     Lee J. Cobb  Martin Balsam   \n",
       "\n",
       "            Star4  No_of_Votes        Gross  \n",
       "0  William Sadler      2343110   28,341,469  \n",
       "1    Diane Keaton      1620367  134,966,411  \n",
       "2   Michael Caine      2303232  534,858,444  \n",
       "3    Diane Keaton      1129952   57,300,000  \n",
       "4    John Fiedler       689845    4,360,000  "
      ]
     },
     "metadata": {},
     "output_type": "display_data"
    }
   ],
   "source": [
    "import pandas as pd\n",
    "file_path = 'imdb.csv'\n",
    "df = pd.read_csv(file_path)\n",
    "display(df.head())"
   ]
  },
  {
   "cell_type": "markdown",
   "id": "d89254e7",
   "metadata": {},
   "source": [
    "#### 1. Movie with the highest IMDB rating"
   ]
  },
  {
   "cell_type": "code",
   "execution_count": 3,
   "id": "5d916e8e",
   "metadata": {
    "scrolled": true
   },
   "outputs": [
    {
     "name": "stdout",
     "output_type": "stream",
     "text": [
      "Movie with the highest IMDB rating is Series_Title    The Shawshank Redemption\n",
      "IMDB_Rating                          9.3\n",
      "Name: 0, dtype: object\n"
     ]
    }
   ],
   "source": [
    "highest_rated_movie = df.loc[df['IMDB_Rating'].idxmax(), ['Series_Title', 'IMDB_Rating']]\n",
    "print(\"Movie with the highest IMDB rating is\", highest_rated_movie)"
   ]
  },
  {
   "cell_type": "markdown",
   "id": "2b4c8406",
   "metadata": {},
   "source": [
    "Another way."
   ]
  },
  {
   "cell_type": "code",
   "execution_count": 4,
   "id": "6c199922",
   "metadata": {},
   "outputs": [
    {
     "name": "stdout",
     "output_type": "stream",
     "text": [
      "Movie with the highest IMDB rating is The Shawshank Redemption with the rating of 9.3.\n"
     ]
    }
   ],
   "source": [
    "highest_idx = df['IMDB_Rating'].idxmax()\n",
    "highest_title = df.at[highest_idx, 'Series_Title']\n",
    "highest_rating = df.at[highest_idx, 'IMDB_Rating']\n",
    "print(f\"Movie with the highest IMDB rating is {highest_title} with the rating of {highest_rating}.\")"
   ]
  },
  {
   "cell_type": "markdown",
   "id": "f3b60baa",
   "metadata": {},
   "source": [
    "#### 2. Difference between release years of the oldest and newest movies"
   ]
  },
  {
   "cell_type": "markdown",
   "id": "974d4b62",
   "metadata": {},
   "source": [
    "Need to ensure *Released_Year* is a numeric column before the calculations."
   ]
  },
  {
   "cell_type": "code",
   "execution_count": 5,
   "id": "cc5d2a77",
   "metadata": {},
   "outputs": [
    {
     "name": "stdout",
     "output_type": "stream",
     "text": [
      "Difference between oldest and newest movie years is 100 years.\n"
     ]
    }
   ],
   "source": [
    "df['Released_Year'] = pd.to_numeric(df['Released_Year'], errors='coerce')\n",
    "df = df.dropna(subset=['Released_Year'])\n",
    "df['Released_Year'] = df['Released_Year'].astype(int)\n",
    "oldest_year = df['Released_Year'].min()\n",
    "newest_year = df['Released_Year'].max()\n",
    "year_difference = newest_year - oldest_year\n",
    "print(\"Difference between oldest and newest movie years is\", year_difference, \"years.\")"
   ]
  },
  {
   "cell_type": "markdown",
   "id": "b5d227c8",
   "metadata": {},
   "source": [
    "#### 3. Average runtime of all movies"
   ]
  },
  {
   "cell_type": "code",
   "execution_count": 6,
   "id": "06facad4",
   "metadata": {},
   "outputs": [
    {
     "name": "stdout",
     "output_type": "stream",
     "text": [
      "Average runtime of all movies is 122.87387387387388 minutes.\n"
     ]
    }
   ],
   "source": [
    "df['Runtime'] = df['Runtime'].astype(str).str.replace(' min', '')\n",
    "df['Runtime'] = pd.to_numeric(df['Runtime'], errors='coerce')\n",
    "avg_runtime = df['Runtime'].mean()\n",
    "print(\"Average runtime of all movies is\", avg_runtime, \"minutes.\")"
   ]
  },
  {
   "cell_type": "markdown",
   "id": "b7b3eb7a",
   "metadata": {},
   "source": [
    "#### 4. Total revenue made by all movies"
   ]
  },
  {
   "cell_type": "code",
   "execution_count": 7,
   "id": "6dd55c8c",
   "metadata": {},
   "outputs": [
    {
     "name": "stdout",
     "output_type": "stream",
     "text": [
      "Total revenue made by all movies is 56363040043.0\n"
     ]
    }
   ],
   "source": [
    "df['Gross'] = df['Gross'].astype(str).str.replace(',', '')\n",
    "df['Gross'] = pd.to_numeric(df['Gross'], errors='coerce')\n",
    "total_revenue = df['Gross'].sum(skipna=True)\n",
    "print(\"Total revenue made by all movies is\", total_revenue)"
   ]
  },
  {
   "cell_type": "markdown",
   "id": "21411700",
   "metadata": {},
   "source": [
    "I also wanted to change the format for the better understandig of what number we have."
   ]
  },
  {
   "cell_type": "code",
   "execution_count": 8,
   "id": "e48627b5",
   "metadata": {},
   "outputs": [
    {
     "name": "stdout",
     "output_type": "stream",
     "text": [
      "Total revenue made by all movies is 56,363,040,043\n"
     ]
    }
   ],
   "source": [
    "formatted_revenue = f\"{total_revenue:,.0f}\"\n",
    "print(\"Total revenue made by all movies is\", formatted_revenue)"
   ]
  },
  {
   "cell_type": "markdown",
   "id": "084b6ed2",
   "metadata": {},
   "source": [
    "####  5. Bottom 10 movies by Meta score"
   ]
  },
  {
   "cell_type": "code",
   "execution_count": 9,
   "id": "9ae00000",
   "metadata": {},
   "outputs": [
    {
     "data": {
      "text/html": [
       "<div>\n",
       "<style scoped>\n",
       "    .dataframe tbody tr th:only-of-type {\n",
       "        vertical-align: middle;\n",
       "    }\n",
       "\n",
       "    .dataframe tbody tr th {\n",
       "        vertical-align: top;\n",
       "    }\n",
       "\n",
       "    .dataframe thead th {\n",
       "        text-align: right;\n",
       "    }\n",
       "</style>\n",
       "<table border=\"1\" class=\"dataframe\">\n",
       "  <thead>\n",
       "    <tr style=\"text-align: right;\">\n",
       "      <th></th>\n",
       "      <th>Series_Title</th>\n",
       "      <th>Meta_score</th>\n",
       "    </tr>\n",
       "  </thead>\n",
       "  <tbody>\n",
       "    <tr>\n",
       "      <th>788</th>\n",
       "      <td>I Am Sam</td>\n",
       "      <td>28.0</td>\n",
       "    </tr>\n",
       "    <tr>\n",
       "      <th>942</th>\n",
       "      <td>The Butterfly Effect</td>\n",
       "      <td>30.0</td>\n",
       "    </tr>\n",
       "    <tr>\n",
       "      <th>356</th>\n",
       "      <td>Tropa de Elite</td>\n",
       "      <td>33.0</td>\n",
       "    </tr>\n",
       "    <tr>\n",
       "      <th>917</th>\n",
       "      <td>Seven Pounds</td>\n",
       "      <td>36.0</td>\n",
       "    </tr>\n",
       "    <tr>\n",
       "      <th>735</th>\n",
       "      <td>Kai po che!</td>\n",
       "      <td>40.0</td>\n",
       "    </tr>\n",
       "    <tr>\n",
       "      <th>957</th>\n",
       "      <td>Fear and Loathing in Las Vegas</td>\n",
       "      <td>41.0</td>\n",
       "    </tr>\n",
       "    <tr>\n",
       "      <th>648</th>\n",
       "      <td>The Boondock Saints</td>\n",
       "      <td>44.0</td>\n",
       "    </tr>\n",
       "    <tr>\n",
       "      <th>677</th>\n",
       "      <td>Predator</td>\n",
       "      <td>45.0</td>\n",
       "    </tr>\n",
       "    <tr>\n",
       "      <th>760</th>\n",
       "      <td>Flipped</td>\n",
       "      <td>45.0</td>\n",
       "    </tr>\n",
       "    <tr>\n",
       "      <th>935</th>\n",
       "      <td>Jeux d'enfants</td>\n",
       "      <td>45.0</td>\n",
       "    </tr>\n",
       "  </tbody>\n",
       "</table>\n",
       "</div>"
      ],
      "text/plain": [
       "                       Series_Title  Meta_score\n",
       "788                        I Am Sam        28.0\n",
       "942            The Butterfly Effect        30.0\n",
       "356                  Tropa de Elite        33.0\n",
       "917                    Seven Pounds        36.0\n",
       "735                     Kai po che!        40.0\n",
       "957  Fear and Loathing in Las Vegas        41.0\n",
       "648             The Boondock Saints        44.0\n",
       "677                        Predator        45.0\n",
       "760                         Flipped        45.0\n",
       "935                  Jeux d'enfants        45.0"
      ]
     },
     "metadata": {},
     "output_type": "display_data"
    }
   ],
   "source": [
    "bottom_10_meta_score = df.nsmallest(10, 'Meta_score')[['Series_Title', 'Meta_score']]\n",
    "display(bottom_10_meta_score)"
   ]
  },
  {
   "cell_type": "markdown",
   "id": "6c2e4ae0",
   "metadata": {},
   "source": [
    "#### 6. Average IMDB rating for each genre"
   ]
  },
  {
   "cell_type": "code",
   "execution_count": 15,
   "id": "f3a45d75",
   "metadata": {},
   "outputs": [
    {
     "name": "stdout",
     "output_type": "stream",
     "text": [
      "Genre\n",
      "Action       7.948677\n",
      "Adventure    7.953846\n",
      "Animation    7.930488\n",
      "Biography    7.935780\n",
      "Comedy       7.903433\n",
      "Crime        7.954545\n",
      "Drama        7.959889\n",
      "Family       7.912500\n",
      "Fantasy      7.931818\n",
      "Film-Noir    7.989474\n",
      "History      7.960000\n",
      "Horror       7.887500\n",
      "Music        7.914286\n",
      "Musical      7.947059\n",
      "Mystery      7.967677\n",
      "Romance      7.925600\n",
      "Sci-Fi       7.977612\n",
      "Sport        7.926316\n",
      "Thriller     7.909489\n",
      "War          8.013725\n",
      "Western      8.000000\n",
      "Name: IMDB_Rating, dtype: float64\n"
     ]
    }
   ],
   "source": [
    "df_genres = df.dropna(subset=['Genre', 'IMDB_Rating']).copy()\n",
    "df_genres['Genre'] = df_genres['Genre'].str.split(', ')\n",
    "df_genres = df_genres.explode('Genre')\n",
    "genre_ratings = df_genres.groupby('Genre')['IMDB_Rating'].mean()\n",
    "print(genre_ratings)"
   ]
  },
  {
   "cell_type": "markdown",
   "id": "9e8fb28d",
   "metadata": {},
   "source": [
    "#### 7. Frequency distribution of each genre (individually)"
   ]
  },
  {
   "cell_type": "code",
   "execution_count": 12,
   "id": "68986d94",
   "metadata": {},
   "outputs": [
    {
     "name": "stdout",
     "output_type": "stream",
     "text": [
      "Drama        723\n",
      "Comedy       233\n",
      "Crime        209\n",
      "Adventure    195\n",
      "Action       189\n",
      "Thriller     137\n",
      "Romance      125\n",
      "Biography    109\n",
      "Mystery       99\n",
      "Animation     82\n",
      "Sci-Fi        67\n",
      "Fantasy       66\n",
      "Family        56\n",
      "History       55\n",
      "War           51\n",
      "Music         35\n",
      "Horror        32\n",
      "Western       20\n",
      "Film-Noir     19\n",
      "Sport         19\n",
      "Musical       17\n",
      "Name: Genre, dtype: int64\n"
     ]
    }
   ],
   "source": [
    "genre_split = df['Genre'].dropna().str.split(', ')\n",
    "genre_exploded = genre_split.explode()\n",
    "genre_frequency = genre_exploded.value_counts()\n",
    "print(genre_frequency)"
   ]
  },
  {
   "cell_type": "markdown",
   "id": "2d4e90c5",
   "metadata": {},
   "source": [
    "####  8. Actor with the most star points"
   ]
  },
  {
   "cell_type": "code",
   "execution_count": 27,
   "id": "b21b715d",
   "metadata": {},
   "outputs": [
    {
     "name": "stdout",
     "output_type": "stream",
     "text": [
      "Actor with the most star points is Robert De Niro with 59 points.\n"
     ]
    }
   ],
   "source": [
    "melted_df = df.melt(value_vars=['Star1', 'Star2', 'Star3', 'Star4'], var_name='Star_Position', value_name='Actor')\n",
    "weight_map = {'Star1': 4, 'Star2': 3, 'Star3': 2, 'Star4': 1}\n",
    "melted_df['Points'] = melted_df['Star_Position'].map(weight_map)\n",
    "actor_points_df = melted_df.groupby('Actor')['Points'].sum().reset_index()\n",
    "most_starred_actor = actor_points_df.loc[actor_points_df['Points'].idxmax()]\n",
    "print(f\"Actor with the most star points is {most_starred_actor['Actor']} with {most_starred_actor['Points']} points.\")"
   ]
  }
 ],
 "metadata": {
  "kernelspec": {
   "display_name": "Python 3 (ipykernel)",
   "language": "python",
   "name": "python3"
  },
  "language_info": {
   "codemirror_mode": {
    "name": "ipython",
    "version": 3
   },
   "file_extension": ".py",
   "mimetype": "text/x-python",
   "name": "python",
   "nbconvert_exporter": "python",
   "pygments_lexer": "ipython3",
   "version": "3.11.4"
  }
 },
 "nbformat": 4,
 "nbformat_minor": 5
}
